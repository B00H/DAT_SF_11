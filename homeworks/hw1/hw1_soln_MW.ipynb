{
 "metadata": {
  "name": "",
  "signature": "sha256:8dfcd391037574c2f620c3012cb7a19eeaee15ad20bc55e815d3836857183323"
 },
 "nbformat": 3,
 "nbformat_minor": 0,
 "worksheets": [
  {
   "cells": [
    {
     "cell_type": "markdown",
     "metadata": {},
     "source": [
      "#Homework 1 - Data Analysis and Regression\n",
      "In this assignment your challenge is to do some basic analysis for Airbnb. Provided in hw/data/ there are 2 data files, <a href=../data/bookings.csv>bookings.csv</a> and <a href=../data/listings.csv>listings.csv</a>. The objective is to practice data munging and begin our exploration of regression."
     ]
    },
    {
     "cell_type": "code",
     "collapsed": false,
     "input": [
      "import pandas as pd\n",
      "import numpy as np\n",
      "import matplotlib.pyplot as plt\n",
      "import seaborn as sns\n",
      "\n",
      "plt.style.use('ggplot')\n",
      "\n",
      "pd.set_option('display.max_rows', 20)\n",
      "pd.set_option('display.precision', 4)\n",
      "\n",
      "%matplotlib inline"
     ],
     "language": "python",
     "metadata": {},
     "outputs": []
    },
    {
     "cell_type": "markdown",
     "metadata": {},
     "source": [
      "##Part 1 - Data exploration\n",
      "###First, create 2 data frames: `listings` and `bookings` from their respective data files"
     ]
    },
    {
     "cell_type": "code",
     "collapsed": false,
     "input": [
      "bookings = pd.read_csv('../data/bookings.csv', parse_dates = ['booking_date'])\n",
      "listings = pd.read_csv('../data/listings.csv')"
     ],
     "language": "python",
     "metadata": {},
     "outputs": []
    },
    {
     "cell_type": "markdown",
     "metadata": {},
     "source": [
      "###What is the mean, median and standard deviation of price, person capacity, picture count, description length and tenure of the properties?"
     ]
    },
    {
     "cell_type": "code",
     "collapsed": false,
     "input": [
      "print \"Mean of the variables of interests\"\n",
      "listings[['price', 'person_capacity', 'picture_count', 'description_length', 'tenure_months']].mean()"
     ],
     "language": "python",
     "metadata": {},
     "outputs": []
    },
    {
     "cell_type": "code",
     "collapsed": false,
     "input": [
      "print \"Standard deviation of the variables of interest\"\n",
      "listings[['price', 'person_capacity', 'picture_count', 'description_length', 'tenure_months']].std()"
     ],
     "language": "python",
     "metadata": {},
     "outputs": []
    },
    {
     "cell_type": "code",
     "collapsed": false,
     "input": [
      "print \"Median of the variables of interest\"\n",
      "listings[['price', 'person_capacity', 'picture_count', 'description_length', 'tenure_months']].median()"
     ],
     "language": "python",
     "metadata": {},
     "outputs": []
    },
    {
     "cell_type": "markdown",
     "metadata": {},
     "source": [
      "###What what are the mean price, person capacity, picture count, description length and tenure of the properties grouped by property type?"
     ]
    },
    {
     "cell_type": "code",
     "collapsed": false,
     "input": [
      "print 'Mean price, person capacity, picture count, description length, and tenure by property type'\n",
      "listings.groupby('prop_type')['price', 'person_capacity', 'picture_count','description_length', 'tenure_months'].mean()"
     ],
     "language": "python",
     "metadata": {},
     "outputs": []
    },
    {
     "cell_type": "markdown",
     "metadata": {},
     "source": [
      "###Same, but by property type per neighborhood? "
     ]
    },
    {
     "cell_type": "code",
     "collapsed": false,
     "input": [
      "print 'Property type 1: Mean price, person capacity, picture count, description length, and tenure by neighborhood'\n",
      "listings[listings.prop_type == 'Property type 1'].groupby('neighborhood')['price', 'person_capacity', 'picture_count','description_length', 'tenure_months'].mean().sort()"
     ],
     "language": "python",
     "metadata": {},
     "outputs": []
    },
    {
     "cell_type": "code",
     "collapsed": false,
     "input": [
      "print 'Property type 2: Mean price, person capacity, picture count, description length, and tenure by neighborhood'\n",
      "listings[listings.prop_type == 'Property type 2'].groupby('neighborhood')['price', 'person_capacity', 'picture_count','description_length', 'tenure_months'].mean().sort()"
     ],
     "language": "python",
     "metadata": {},
     "outputs": []
    },
    {
     "cell_type": "code",
     "collapsed": false,
     "input": [
      "print 'Property type 3: Mean price, person capacity, picture count, description length, and tenure by neighborhood'\n",
      "listings[listings.prop_type == 'Property type 3'].groupby('neighborhood')['price', 'person_capacity', 'picture_count','description_length', 'tenure_months'].mean()"
     ],
     "language": "python",
     "metadata": {},
     "outputs": []
    },
    {
     "cell_type": "markdown",
     "metadata": {},
     "source": [
      "###Plot daily bookings:"
     ]
    },
    {
     "cell_type": "code",
     "collapsed": false,
     "input": [
      "plot1 = bookings.booking_date.value_counts().plot(figsize = (25,10))\n",
      "plot1.set_title('Daily bookings')\n",
      "plot1.set_xlabel('Date')\n",
      "plot1.set_ylabel('Number of bookings')"
     ],
     "language": "python",
     "metadata": {},
     "outputs": []
    },
    {
     "cell_type": "markdown",
     "metadata": {},
     "source": [
      "###Plot the daily bookings per neighborhood (provide a legend)"
     ]
    },
    {
     "cell_type": "code",
     "collapsed": false,
     "input": [
      "lb = listings.merge(bookings)"
     ],
     "language": "python",
     "metadata": {},
     "outputs": []
    },
    {
     "cell_type": "code",
     "collapsed": false,
     "input": [
      "lb['day_of_week'] = lb.booking_date.map(lambda x: x.dayofweek)"
     ],
     "language": "python",
     "metadata": {},
     "outputs": []
    },
    {
     "cell_type": "code",
     "collapsed": false,
     "input": [
      "lb['month'] = lb.booking_date.map(lambda x: x.month)"
     ],
     "language": "python",
     "metadata": {},
     "outputs": []
    },
    {
     "cell_type": "code",
     "collapsed": false,
     "input": [
      "def day_word(number):\n",
      "    day_of_week = {}\n",
      "    day_of_week[0] = 'Monday'\n",
      "    day_of_week[1] = 'Tuesday'\n",
      "    day_of_week[2] = 'Wednesday'\n",
      "    day_of_week[3] = 'Thursday'\n",
      "    day_of_week[4] = 'Friday'\n",
      "    day_of_week[5] = 'Saturday'\n",
      "    day_of_week[6] = 'Sunday'\n",
      "    return day_of_week[number]"
     ],
     "language": "python",
     "metadata": {},
     "outputs": []
    },
    {
     "cell_type": "code",
     "collapsed": false,
     "input": [
      "lb['day'] = lb['day_of_week'].map(day_word)"
     ],
     "language": "python",
     "metadata": {},
     "outputs": []
    },
    {
     "cell_type": "code",
     "collapsed": false,
     "input": [
      "# Warning: Super unpretty graph to follow. :( But I was told not to worry. :)\n",
      "lb.groupby(['neighborhood', 'booking_date'])['prop_id'].count().unstack(0).plot(figsize = (20, 10))\n",
      "plt.title('Daily bookings by neighborhood')\n",
      "plt.xlabel('Date')\n",
      "plt.ylabel('Number of bookings')\n",
      "plt.ylim([0, 14]);"
     ],
     "language": "python",
     "metadata": {},
     "outputs": []
    },
    {
     "cell_type": "code",
     "collapsed": false,
     "input": [
      "# Here's a prettier plot. But it uses day of the week on x axis.\n",
      "# I could not figure out how to re-order x axis labels ... \n",
      "lb.groupby(['neighborhood', 'day'])['prop_id'].count().unstack(0).plot(figsize = (20, 10))\n",
      "plt.title('Daily bookings by neighborhood')\n",
      "plt.xlabel('Day of the week')\n",
      "plt.ylabel('Number of bookings')\n",
      "plt.ylim([0, 35]);"
     ],
     "language": "python",
     "metadata": {},
     "outputs": []
    },
    {
     "cell_type": "markdown",
     "metadata": {},
     "source": [
      "##Part 2 - Develop a data set"
     ]
    },
    {
     "cell_type": "markdown",
     "metadata": {},
     "source": [
      "###Add the columns `number_of_bookings` and `booking_rate` (number_of_bookings/tenure_months) to your `listings` data frame"
     ]
    },
    {
     "cell_type": "code",
     "collapsed": false,
     "input": [
      "# Not all listings had bookings.\n",
      "# Function to get a dict with prop_id as key and number of bookings as value.\n",
      "bookedProperties = {}\n",
      "for prop in bookings['prop_id']:\n",
      "    if prop in bookedProperties:\n",
      "        bookedProperties[prop] += 1\n",
      "    else:\n",
      "        bookedProperties[prop] = 1  "
     ],
     "language": "python",
     "metadata": {},
     "outputs": []
    },
    {
     "cell_type": "code",
     "collapsed": false,
     "input": [
      "# Function to get number of bookings if bookings were made, set to zero otherwise. \n",
      "def bookings_map(propertyid):\n",
      "    if propertyid not in bookedProperties.keys():\n",
      "        return 0\n",
      "    else: \n",
      "        return bookedProperties[propertyid]"
     ],
     "language": "python",
     "metadata": {},
     "outputs": []
    },
    {
     "cell_type": "code",
     "collapsed": false,
     "input": [
      "# Apply function. \n",
      "listings['number_of_bookings'] = listings.prop_id.map(bookings_map)\n",
      "listings['booking_rate'] = listings.number_of_bookings / listings.tenure_months"
     ],
     "language": "python",
     "metadata": {},
     "outputs": []
    },
    {
     "cell_type": "markdown",
     "metadata": {},
     "source": [
      "###We only want to analyze well established properties, so let's filter out any properties that have a tenure less than 10 months "
     ]
    },
    {
     "cell_type": "code",
     "collapsed": false,
     "input": [
      "listings_new = listings[listings.tenure_months >= 10]"
     ],
     "language": "python",
     "metadata": {},
     "outputs": []
    },
    {
     "cell_type": "code",
     "collapsed": false,
     "input": [
      "# Recode categories in prop_type so that dummy variables can be called later (i.e., whitespace to underscore)\n",
      "# Chad, Ramesh - any ideas why I keep getting the error message (when running it the first time)?\n",
      "listings_new['prop_typeR'] = listings_new.loc[:, 'prop_type'].map(lambda x: x.replace(' ', '_'))\n",
      "listings_new['neighborhoodR'] = listings_new.loc[:, 'neighborhood'].map(lambda x: x.replace(' ', '_'))"
     ],
     "language": "python",
     "metadata": {},
     "outputs": []
    },
    {
     "cell_type": "markdown",
     "metadata": {},
     "source": [
      "###`prop_type` and `neighborhood` are categorical variables, use `get_dummies()` (http://pandas.pydata.org/pandas-docs/stable/generated/pandas.core.reshape.get_dummies.html) to transform this column of categorical data to many columns of boolean values (after applying this function correctly there should be 1 column for every prop_type and 1 column for every neighborhood category."
     ]
    },
    {
     "cell_type": "code",
     "collapsed": false,
     "input": [
      "dummies = pd.get_dummies(listings_new[['neighborhoodR', 'prop_typeR']], prefix = ['dummy', 'dummy'])"
     ],
     "language": "python",
     "metadata": {},
     "outputs": []
    },
    {
     "cell_type": "code",
     "collapsed": false,
     "input": [
      "# Join with listings_new.\n",
      "listings_with_dummies = listings_new.join(dummies)"
     ],
     "language": "python",
     "metadata": {},
     "outputs": []
    },
    {
     "cell_type": "markdown",
     "metadata": {},
     "source": [
      "###create test and training sets for your regressors and predictors\n",
      "predictor (y) is `booking_rate`, regressors (X) are everything else, except `prop_id`,`booking_rate`,`prop_type`,`neighborhood` and `number_of_bookings`<br>\n",
      "http://scikit-learn.org/stable/modules/generated/sklearn.cross_validation.train_test_split.html<br>\n",
      "http://pandas.pydata.org/pandas-docs/stable/basics.html#dropping-labels-from-an-axis"
     ]
    },
    {
     "cell_type": "code",
     "collapsed": false,
     "input": [
      "from sklearn.cross_validation import train_test_split"
     ],
     "language": "python",
     "metadata": {},
     "outputs": []
    },
    {
     "cell_type": "code",
     "collapsed": false,
     "input": [
      "predictor = np.array(listings_with_dummies['booking_rate'])\n",
      "predictor"
     ],
     "language": "python",
     "metadata": {},
     "outputs": []
    },
    {
     "cell_type": "code",
     "collapsed": false,
     "input": [
      "listings_reduced = listings_with_dummies.drop(['prop_id', 'booking_rate', 'prop_type', 'neighborhood', 'number_of_bookings', \\\n",
      "                                               'prop_typeR', 'neighborhoodR'], \\\n",
      "                                              axis = 1)\n",
      "listings_reduced"
     ],
     "language": "python",
     "metadata": {},
     "outputs": []
    },
    {
     "cell_type": "code",
     "collapsed": false,
     "input": [
      "regressors_train, regressors_test, predictor_train, predictor_test = train_test_split(listings_reduced,\\\n",
      "                                                                                     predictor, \\\n",
      "                                                                                     test_size = 0.2,\\\n",
      "                                                                                     random_state = 12)"
     ],
     "language": "python",
     "metadata": {},
     "outputs": []
    },
    {
     "cell_type": "markdown",
     "metadata": {},
     "source": [
      "##Part 3 - Model `booking_rate`"
     ]
    },
    {
     "cell_type": "markdown",
     "metadata": {},
     "source": [
      "###Create a linear regression model of your listings"
     ]
    },
    {
     "cell_type": "code",
     "collapsed": false,
     "input": [
      "from sklearn.linear_model import LinearRegression\n",
      "lr = LinearRegression()"
     ],
     "language": "python",
     "metadata": {},
     "outputs": []
    },
    {
     "cell_type": "heading",
     "level": 3,
     "metadata": {},
     "source": [
      "fit your model with your test sets"
     ]
    },
    {
     "cell_type": "code",
     "collapsed": false,
     "input": [
      "lr.fit(regressors_train, predictor_train)"
     ],
     "language": "python",
     "metadata": {},
     "outputs": []
    },
    {
     "cell_type": "markdown",
     "metadata": {},
     "source": [
      "###report the score\n",
      "http://scikit-learn.org/stable/modules/generated/sklearn.linear_model.LinearRegression.html#sklearn.linear_model.LinearRegression.score"
     ]
    },
    {
     "cell_type": "code",
     "collapsed": false,
     "input": [
      "# Print R Squared. It is the variance explained. \n",
      "print 'Variance score of test data: ', lr.score(regressors_test, predictor_test)"
     ],
     "language": "python",
     "metadata": {},
     "outputs": []
    },
    {
     "cell_type": "code",
     "collapsed": false,
     "input": [
      "predicted = lr.predict(regressors_test)\n",
      "expected = predictor_test"
     ],
     "language": "python",
     "metadata": {},
     "outputs": []
    },
    {
     "cell_type": "code",
     "collapsed": false,
     "input": [
      "fig, ax = plt.subplots(1, 1)\n",
      "ax.scatter(expected, predicted)\n",
      "ax.plot(predictor, predictor, 'r')\n",
      "ax.axis('tight')\n",
      "ax.set_xlabel('Observed booking rate')\n",
      "ax.set_ylabel('Predicted booking rate')\n",
      "print \"Residual mean squared error of the regression:\", np.sqrt(np.mean((predicted - expected) ** 2))"
     ],
     "language": "python",
     "metadata": {},
     "outputs": []
    },
    {
     "cell_type": "markdown",
     "metadata": {},
     "source": [
      "###Interpret the results of the above model:\n",
      "* What does the `score` method do?\n",
      "* What does this tell us about our model?"
     ]
    },
    {
     "cell_type": "markdown",
     "metadata": {},
     "source": [
      "This mean that 23% of the variance in the test data can be explained by the model trained on the train data. R squared is the explained variation divided by the total variation. Higher scores mean that more variation is explained by the model. This suggests that the model that was fitted is not that bad (in studies involving human behavior most studies report explained variance to be below 50%), but it probably would be better to select features to feed into the model and not enter it all. With only 144 individual data points, the number of regressors (here: 24) is also pretty large. "
     ]
    },
    {
     "cell_type": "markdown",
     "metadata": {},
     "source": [
      "## Optional - Iterate\n",
      "Create an alternative predictor (e.g. monthly revenue) and use the same modeling pattern in Part 3 to"
     ]
    },
    {
     "cell_type": "code",
     "collapsed": false,
     "input": [
      "# Copy orig data.\n",
      "listings_copy = listings_new.copy()"
     ],
     "language": "python",
     "metadata": {},
     "outputs": []
    },
    {
     "cell_type": "code",
     "collapsed": false,
     "input": [
      "# Compute new variable of interest.\n",
      "listings_copy['monthly_revenue'] = (listings_copy.loc[:, 'number_of_bookings'] * listings_copy.loc[:, 'price']) / (listings_copy.loc[:, 'tenure_months'])"
     ],
     "language": "python",
     "metadata": {},
     "outputs": []
    },
    {
     "cell_type": "code",
     "collapsed": false,
     "input": [
      "# Get dummy variables. Join with data copy.\n",
      "dummies2 = pd.get_dummies(listings_copy[['neighborhoodR', 'prop_typeR']], prefix = ['dummy', 'dummy'])\n",
      "listings_copy_dummies = listings_copy.join(dummies2)"
     ],
     "language": "python",
     "metadata": {},
     "outputs": []
    },
    {
     "cell_type": "code",
     "collapsed": false,
     "input": [
      "# Predictor np array. Drop unwanted variables. \n",
      "predictor2 = np.array(listings_copy_dummies['monthly_revenue'])\n",
      "listings_copy_reduced = listings_copy_dummies.drop(['prop_id', 'booking_rate', 'prop_type', 'neighborhood', 'number_of_bookings', 'prop_typeR', 'neighborhoodR', 'monthly_revenue'], axis = 1)"
     ],
     "language": "python",
     "metadata": {},
     "outputs": []
    },
    {
     "cell_type": "code",
     "collapsed": false,
     "input": [
      "# Split. \n",
      "regr_train, regr_test, pred_train, pred_test = train_test_split(listings_copy_reduced, predictor2, test_size = 0.2, random_state = 9)"
     ],
     "language": "python",
     "metadata": {},
     "outputs": []
    },
    {
     "cell_type": "code",
     "collapsed": false,
     "input": [
      "lr2 = LinearRegression()"
     ],
     "language": "python",
     "metadata": {},
     "outputs": []
    },
    {
     "cell_type": "code",
     "collapsed": false,
     "input": [
      "lr2.fit(regr_train, pred_train)"
     ],
     "language": "python",
     "metadata": {},
     "outputs": []
    },
    {
     "cell_type": "code",
     "collapsed": false,
     "input": [
      "print 'R squared: ', lr2.score(regr_test, pred_test)\n",
      "print 'Booooh, a horrible model (negative means that the model fitted is worse than a simple horizontal line).'"
     ],
     "language": "python",
     "metadata": {},
     "outputs": []
    },
    {
     "cell_type": "code",
     "collapsed": false,
     "input": [
      "predicted2 = lr2.predict(regr_test)\n",
      "expected2 = pred_test"
     ],
     "language": "python",
     "metadata": {},
     "outputs": []
    },
    {
     "cell_type": "code",
     "collapsed": false,
     "input": [
      "fig, ax = plt.subplots(1, 1)\n",
      "ax.scatter(expected2, predicted2)\n",
      "ax.plot(predictor2, predictor2, 'r')\n",
      "ax.axis('tight')\n",
      "ax.set_xlabel('Observed monthly revenue (USD)')\n",
      "ax.set_ylabel('Predicted monthly revenue (USD)')\n",
      "print 'Residual mean squared error of the regression:', np.sqrt(np.mean((predicted2 - expected2) ** 2))"
     ],
     "language": "python",
     "metadata": {},
     "outputs": []
    },
    {
     "cell_type": "code",
     "collapsed": false,
     "input": [
      "# I tried some transformations. Log transform did not normalize predictor2. \n",
      "# I went for sqrt transform - even though it still didn't look Gaussian.\n",
      "predictor2_sqrt = np.sqrt(predictor2)\n",
      "# Split again.\n",
      "regr2_train, regr2_test, pred2_train, pred2_test = train_test_split(listings_copy_reduced, predictor2_sqrt, test_size = 0.2, random_state = 9)\n",
      "# Fit.\n",
      "lr3 = LinearRegression()\n",
      "lr3.fit(regr2_train, pred2_train)\n",
      "# Look at score.\n",
      "print 'R squared: ', lr3.score(regr2_test, pred2_test)\n",
      "print 'Ha, made it worse. Thoughts?'"
     ],
     "language": "python",
     "metadata": {},
     "outputs": []
    },
    {
     "cell_type": "code",
     "collapsed": false,
     "input": [],
     "language": "python",
     "metadata": {},
     "outputs": []
    }
   ],
   "metadata": {}
  }
 ]
}