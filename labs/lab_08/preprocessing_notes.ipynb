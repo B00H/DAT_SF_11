{
 "metadata": {
  "name": "",
  "signature": "sha256:96328e298577d218b652cc907c633d2b8f9374b52e66919ed1830ddc10ab9b87"
 },
 "nbformat": 3,
 "nbformat_minor": 0,
 "worksheets": [
  {
   "cells": [
    {
     "cell_type": "markdown",
     "metadata": {},
     "source": [
      "#Scaling"
     ]
    },
    {
     "cell_type": "code",
     "collapsed": false,
     "input": [
      "from sklearn import preprocessing\n",
      "import numpy as np\n",
      "X = np.array([[ 1., -1.,  2.],\n",
      "              [ 2.,  0.,  0.],\n",
      "              [ 0.,  1., -1.]])  "
     ],
     "language": "python",
     "metadata": {},
     "outputs": []
    },
    {
     "cell_type": "code",
     "collapsed": false,
     "input": [
      "X_scaled = preprocessing.scale(X)   "
     ],
     "language": "python",
     "metadata": {},
     "outputs": []
    },
    {
     "cell_type": "code",
     "collapsed": false,
     "input": [
      "X_scaled"
     ],
     "language": "python",
     "metadata": {},
     "outputs": []
    },
    {
     "cell_type": "code",
     "collapsed": false,
     "input": [
      "# notice this gives us 0 mean\n",
      "X_scaled.mean(axis=0)"
     ],
     "language": "python",
     "metadata": {},
     "outputs": []
    },
    {
     "cell_type": "code",
     "collapsed": false,
     "input": [
      "# and unit variance\n",
      "X_scaled.std(axis=0)"
     ],
     "language": "python",
     "metadata": {},
     "outputs": []
    },
    {
     "cell_type": "code",
     "collapsed": false,
     "input": [
      "scaler = preprocessing.StandardScaler().fit(X)\n",
      "print scaler                                     \n",
      "scaler.transform(X) "
     ],
     "language": "python",
     "metadata": {},
     "outputs": []
    },
    {
     "cell_type": "code",
     "collapsed": false,
     "input": [
      "# we can apply our scaling transform on new data\n",
      "scaler.transform([[-1.,  1., 0.]])  "
     ],
     "language": "python",
     "metadata": {},
     "outputs": []
    },
    {
     "cell_type": "markdown",
     "metadata": {},
     "source": [
      "#Binarizing"
     ]
    },
    {
     "cell_type": "code",
     "collapsed": false,
     "input": [
      "X = [[ 1., -1.,  2.],\n",
      "     [ 2.,  0.,  0.],\n",
      "     [ 0.,  1., -1.]]\n",
      "\n",
      "binarizer = preprocessing.Binarizer().fit(X)  # fit does nothing\n",
      "binarizer"
     ],
     "language": "python",
     "metadata": {},
     "outputs": []
    },
    {
     "cell_type": "code",
     "collapsed": false,
     "input": [
      "binarizer.transform(X)\n",
      "\n",
      "binarizer = preprocessing.Binarizer(threshold=1.1)\n",
      "binarizer.transform(X)"
     ],
     "language": "python",
     "metadata": {},
     "outputs": []
    },
    {
     "cell_type": "markdown",
     "metadata": {},
     "source": [
      "#Categorical Encoding"
     ]
    },
    {
     "cell_type": "code",
     "collapsed": false,
     "input": [
      "enc = preprocessing.OneHotEncoder()\n",
      "enc.fit([[0, 0, 3], [1, 1, 0], [0, 2, 1], [1, 0, 2]])  \n",
      "enc.transform([[0, 1, 3]]).toarray()"
     ],
     "language": "python",
     "metadata": {},
     "outputs": []
    },
    {
     "cell_type": "code",
     "collapsed": false,
     "input": [
      "le = preprocessing.LabelEncoder()\n",
      "le.fit([\"paris\", \"paris\", \"tokyo\", \"amsterdam\"])\n",
      "\n",
      "list(le.classes_)\n",
      "\n",
      "le.transform([\"tokyo\", \"tokyo\", \"paris\"])\n",
      "\n",
      "list(le.inverse_transform([2, 2, 1]))"
     ],
     "language": "python",
     "metadata": {},
     "outputs": []
    },
    {
     "cell_type": "code",
     "collapsed": false,
     "input": [],
     "language": "python",
     "metadata": {},
     "outputs": []
    }
   ],
   "metadata": {}
  }
 ]
}