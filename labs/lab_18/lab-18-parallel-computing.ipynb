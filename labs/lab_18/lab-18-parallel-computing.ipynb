{
 "metadata": {
  "name": "",
  "signature": "sha256:e2f56c4a81bdb375addcc4a9ff40ec7da82a9e9ab78807d8665a6007458e60fb"
 },
 "nbformat": 3,
 "nbformat_minor": 0,
 "worksheets": [
  {
   "cells": [
    {
     "cell_type": "markdown",
     "metadata": {},
     "source": [
      "- http://star.mit.edu/cluster/docs/latest/quickstart.html\n",
      "- http://star.mit.edu/cluster/docs/latest/plugins/ipython.html\n",
      "- http://ipython.org/ipython-doc/2/parallel/parallel_process.html"
     ]
    },
    {
     "cell_type": "code",
     "collapsed": false,
     "input": [],
     "language": "python",
     "metadata": {},
     "outputs": []
    }
   ],
   "metadata": {}
  }
 ]
}