{
 "metadata": {
  "name": "",
  "signature": "sha256:53da20dcc8a2a3f2d24157d354cf8118f643d05462c4b224af074aac758a4c3c"
 },
 "nbformat": 3,
 "nbformat_minor": 0,
 "worksheets": [
  {
   "cells": [
    {
     "cell_type": "markdown",
     "metadata": {},
     "source": [
      "#Support Vector Machines\n",
      "Keys to success with all SVM (and most machine learning):<br>\n",
      "* Kernel selection (critical in SVM)\n",
      "* Parameter tuning"
     ]
    },
    {
     "cell_type": "markdown",
     "metadata": {},
     "source": [
      "To accomplish this we will practice using an important tool:\n",
      "* `sklearn.grid_search.GridSearchCV`"
     ]
    },
    {
     "cell_type": "markdown",
     "metadata": {},
     "source": [
      "##Stuff we already know how to do...\n",
      "Import stuff we think we might need:"
     ]
    },
    {
     "cell_type": "code",
     "collapsed": false,
     "input": [],
     "language": "python",
     "metadata": {},
     "outputs": []
    },
    {
     "cell_type": "markdown",
     "metadata": {},
     "source": [
      "###Load the data set into a DataFrame\n",
      "`labs/data/svm_data.csv`"
     ]
    },
    {
     "cell_type": "code",
     "collapsed": false,
     "input": [],
     "language": "python",
     "metadata": {},
     "outputs": []
    },
    {
     "cell_type": "markdown",
     "metadata": {},
     "source": [
      "###Explore the data\n",
      "Describe the data.<br>\n",
      "Plot the data, use a scatter plot and color each class with a different color<br>\n"
     ]
    },
    {
     "cell_type": "code",
     "collapsed": false,
     "input": [],
     "language": "python",
     "metadata": {},
     "outputs": []
    },
    {
     "cell_type": "markdown",
     "metadata": {},
     "source": [
      "###Split the data set\n",
      "create a train/test split with .3 testing size"
     ]
    },
    {
     "cell_type": "code",
     "collapsed": false,
     "input": [],
     "language": "python",
     "metadata": {},
     "outputs": []
    },
    {
     "cell_type": "markdown",
     "metadata": {},
     "source": [
      "##Predict\n",
      "###Create an SVM estimator, using [`sklearn.svm.LinearSVC`](http://scikit-learn.org/stable/modules/generated/sklearn.svm.LinearSVC.html#sklearn.svm.LinearSVC) with `C=-3`\n",
      "First, make sure we can read and understand the documentation:\n",
      "* Identify the defaults\n",
      "* Identify the example\n",
      "\n",
      "Write the correct constructor statement:"
     ]
    },
    {
     "cell_type": "code",
     "collapsed": false,
     "input": [],
     "language": "python",
     "metadata": {},
     "outputs": []
    },
    {
     "cell_type": "markdown",
     "metadata": {},
     "source": [
      "Fit the model with the training data"
     ]
    },
    {
     "cell_type": "code",
     "collapsed": false,
     "input": [],
     "language": "python",
     "metadata": {},
     "outputs": []
    },
    {
     "cell_type": "markdown",
     "metadata": {},
     "source": [
      "Score our model using test data"
     ]
    },
    {
     "cell_type": "code",
     "collapsed": false,
     "input": [],
     "language": "python",
     "metadata": {},
     "outputs": []
    },
    {
     "cell_type": "markdown",
     "metadata": {},
     "source": [
      "##GridSearch\n",
      "###Create a parameter grid for `C` using `np.logspace(-3., 3., 10)`. \n",
      "Read the example for grid search [`sklearn.grid_search.GridSearchCV`](http://scikit-learn.org/stable/modules/generated/sklearn.grid_search.GridSearchCV.html#sklearn.grid_search.GridSearchCV). NOTE: we will discuss cross validation in later lectures, for now let's just see the benefit of this tool. "
     ]
    },
    {
     "cell_type": "code",
     "collapsed": false,
     "input": [],
     "language": "python",
     "metadata": {},
     "outputs": []
    },
    {
     "cell_type": "markdown",
     "metadata": {},
     "source": [
      "###fit/predict."
     ]
    },
    {
     "cell_type": "code",
     "collapsed": false,
     "input": [],
     "language": "python",
     "metadata": {},
     "outputs": []
    },
    {
     "cell_type": "markdown",
     "metadata": {},
     "source": [
      "###What are the best parameters?"
     ]
    },
    {
     "cell_type": "code",
     "collapsed": false,
     "input": [],
     "language": "python",
     "metadata": {},
     "outputs": []
    },
    {
     "cell_type": "markdown",
     "metadata": {},
     "source": [
      "##Visualize our decision function\n",
      "A little helper function to make your life easier (you're welcome):"
     ]
    },
    {
     "cell_type": "code",
     "collapsed": false,
     "input": [
      "import numpy as np\n",
      "import pandas as pd\n",
      "import sklearn\n",
      "import sklearn.datasets as ds\n",
      "import sklearn.cross_validation as cv\n",
      "import sklearn.grid_search as gs\n",
      "import sklearn.svm as svm\n",
      "import matplotlib as mpl\n",
      "import matplotlib.pyplot as plt\n",
      "%matplotlib inline\n",
      "# We generate a grid in the square [-3,3 ]^2.\n",
      "xx, yy = np.meshgrid(np.linspace(-3, 3, 500),\n",
      "                     np.linspace(-3, 3, 500))\n",
      "# This function takes a SVM estimator as input.\n",
      "def plot_decision_function(est):\n",
      "    # We evaluate the decision function on the grid.\n",
      "    Z = est.decision_function(np.c_[xx.ravel(), yy.ravel()])\n",
      "    Z = Z.reshape(xx.shape)\n",
      "    cmap = plt.cm.Blues\n",
      "    # We display the decision function on the grid.\n",
      "    plt.figure(figsize=(5,5));\n",
      "    plt.imshow(Z,\n",
      "                extent=(xx.min(), xx.max(), yy.min(), yy.max()),\n",
      "                aspect='auto', origin='lower', cmap=cmap);\n",
      "    # We display the boundaries.\n",
      "    plt.contour(xx, yy, Z, levels=[0], linewidths=2,\n",
      "                colors='k');\n",
      "    # We display the points with their true labels.\n",
      "    plt.scatter(X[:, 0], X[:, 1], s=30, c=.5+.5*y, lw=1, \n",
      "                cmap=cmap, vmin=0, vmax=1);\n",
      "    plt.axhline(0, color='k', ls='--');\n",
      "    plt.axvline(0, color='k', ls='--');\n",
      "    plt.xticks(());\n",
      "    plt.yticks(());\n",
      "    plt.axis([-3, 3, -3, 3]);"
     ],
     "language": "python",
     "metadata": {},
     "outputs": []
    },
    {
     "cell_type": "markdown",
     "metadata": {},
     "source": [
      "###Create estimator with Non-Linear kernel\n",
      "For this you will use [`sklearn.svm.SVC`](http://scikit-learn.org/stable/modules/generated/sklearn.svm.SVC.html#sklearn.svm.SVC)<br>\n",
      "Let's first make sure we understand how to read the documentation:<br>\n",
      "* What is the default kernel for SVC?\n",
      "* What other kernels are available in the scikit SVC API?\n",
      "\n",
      "Implement an SVM classifier with radial bias function (RBF) kernel\n"
     ]
    },
    {
     "cell_type": "code",
     "collapsed": false,
     "input": [],
     "language": "python",
     "metadata": {},
     "outputs": []
    },
    {
     "cell_type": "markdown",
     "metadata": {},
     "source": [
      "Plot the decision function"
     ]
    },
    {
     "cell_type": "code",
     "collapsed": false,
     "input": [],
     "language": "python",
     "metadata": {},
     "outputs": []
    },
    {
     "cell_type": "markdown",
     "metadata": {},
     "source": [
      "###Now let's put it all together\n",
      "Do a grid search for values of `C` and `gamma` and *plot* the best decision function"
     ]
    },
    {
     "cell_type": "code",
     "collapsed": false,
     "input": [],
     "language": "python",
     "metadata": {},
     "outputs": []
    }
   ],
   "metadata": {}
  }
 ]
}